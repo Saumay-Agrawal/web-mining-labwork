{
 "cells": [
  {
   "cell_type": "markdown",
   "metadata": {},
   "source": [
    "<h1> Saumay Agrawal </h1>\n",
    "<h2> 16BCE1151 </h2>"
   ]
  },
  {
   "cell_type": "code",
   "execution_count": 1,
   "metadata": {},
   "outputs": [],
   "source": [
    "import pandas as pd\n",
    "import matplotlib.pyplot as plt\n",
    "%matplotlib inline\n",
    "import seaborn as sb\n",
    "import networkx as nx"
   ]
  },
  {
   "cell_type": "code",
   "execution_count": 2,
   "metadata": {},
   "outputs": [],
   "source": [
    "# Defining the outlink matrix for given question\n",
    "\n",
    "matrix = [[0,1,1,1,0],\n",
    "          [1,0,1,1,0],\n",
    "          [0,0,0,1,0],\n",
    "          [0,0,1,0,1],\n",
    "          [0,1,1,1,0]]\n",
    "\n",
    "nnodes = len(matrix)\n",
    "\n",
    "# Returns the inlinks of a node\n",
    "def getInlinks(node):\n",
    "    return [row for row in range(nnodes) if matrix[row][node]==1]\n",
    "\n",
    "# Returns the outlinks of a node\n",
    "def getOutlinks(node):\n",
    "    return [i for i in range(nnodes) if matrix[node][i]==1 ]\n",
    "\n",
    "# Returns the weightin(v, u)\n",
    "def getWeightIn(v, u):\n",
    "    rv = getInlinks(v)\n",
    "    ip = [len(getInlinks(p)) for p in rv]\n",
    "    win = len(getInlinks(u))/sum(ip)\n",
    "    return win\n",
    "\n",
    "# Returns the weightout(v, u)\n",
    "def getWeightOut(v, u):\n",
    "    rv = getInlinks(v)\n",
    "    ip = [len(getOutlinks(p)) for p in rv]\n",
    "    wout = len(getOutlinks(u))/sum(ip)\n",
    "    return wout\n",
    "\n",
    "# Returns the page ranks over n iterations\n",
    "def pageRank(d, n):\n",
    "    mat = []\n",
    "    pr = [1 for i in range(nnodes)]\n",
    "    for _ in range(n):\n",
    "        mat.append(pr)\n",
    "        prtemp = [0 for i in range(nnodes)]\n",
    "        for u in range(nnodes):\n",
    "            summation = 0\n",
    "            for v in getInlinks(u):\n",
    "                summation += pr[v] / len(getOutlinks(v))\n",
    "            prtemp[u] = (1-d) + d*summation\n",
    "            prtemp[u] = round(prtemp[u],5)\n",
    "        pr = prtemp\n",
    "    df = pd.DataFrame(mat, columns=['A', 'B', 'C', 'D', 'E'])\n",
    "    return df\n",
    "\n",
    "# Returns the weighted page ranks over n iterations\n",
    "def weightedPR(d, n):\n",
    "    mat = []\n",
    "    pr = [1 for i in range(nnodes)]\n",
    "    for _ in range(n):\n",
    "        mat.append(pr)\n",
    "        prtemp = [0 for i in range(nnodes)]\n",
    "        for u in range(nnodes):\n",
    "            summation = 0\n",
    "            for v in getInlinks(u):\n",
    "                summation += pr[v] * getWeightIn(v, u) * getWeightOut(v,u)\n",
    "            prtemp[u] = (1-d) + d*summation\n",
    "            prtemp[u] = round(prtemp[u],5)\n",
    "        pr = prtemp\n",
    "    df = pd.DataFrame(mat, columns=['A', 'B', 'C', 'D', 'E'])\n",
    "    return df"
   ]
  },
  {
   "cell_type": "code",
   "execution_count": 3,
   "metadata": {},
   "outputs": [
    {
     "data": {
      "image/png": "[encoded data removed]",
      "text/plain": [
       "<Figure size 432x288 with 1 Axes>"
      ]
     },
     "metadata": {},
     "output_type": "display_data"
    }
   ],
   "source": [
    "#Plotting the network graph for pages\n",
    "\n",
    "G = nx.DiGraph()\n",
    "nodes = ['A', 'B', 'C', 'D', 'E']\n",
    "G.add_nodes_from(nodes)\n",
    "for i in range(nnodes):\n",
    "    for j in range(nnodes):\n",
    "        if matrix[i][j]==1:\n",
    "            G.add_edge(nodes[i], nodes[j])\n",
    "nx.draw_shell(G, with_labels=True, arrows=True)"
   ]
  },
  {
   "cell_type": "code",
   "execution_count": 4,
   "metadata": {},
   "outputs": [
    {
     "name": "stdout",
     "output_type": "stream",
     "text": [
      "Normal page rank\n"
     ]
    },
    {
     "data": {
      "text/html": [
       "<div>\n",
       "<style scoped>\n",
       "    .dataframe tbody tr th:only-of-type {\n",
       "        vertical-align: middle;\n",
       "    }\n",
       "\n",
       "    .dataframe tbody tr th {\n",
       "        vertical-align: top;\n",
       "    }\n",
       "\n",
       "    .dataframe thead th {\n",
       "        text-align: right;\n",
       "    }\n",
       "</style>\n",
       "<table border=\"1\" class=\"dataframe\">\n",
       "  <thead>\n",
       "    <tr style=\"text-align: right;\">\n",
       "      <th></th>\n",
       "      <th>A</th>\n",
       "      <th>B</th>\n",
       "      <th>C</th>\n",
       "      <th>D</th>\n",
       "      <th>E</th>\n",
       "    </tr>\n",
       "  </thead>\n",
       "  <tbody>\n",
       "    <tr>\n",
       "      <th>0</th>\n",
       "      <td>1.00000</td>\n",
       "      <td>1.00000</td>\n",
       "      <td>1.00</td>\n",
       "      <td>1.0</td>\n",
       "      <td>1.000</td>\n",
       "    </tr>\n",
       "    <tr>\n",
       "      <th>1</th>\n",
       "      <td>0.66667</td>\n",
       "      <td>0.83333</td>\n",
       "      <td>1.25</td>\n",
       "      <td>1.5</td>\n",
       "      <td>0.750</td>\n",
       "    </tr>\n",
       "    <tr>\n",
       "      <th>2</th>\n",
       "      <td>0.63889</td>\n",
       "      <td>0.73611</td>\n",
       "      <td>1.25</td>\n",
       "      <td>1.5</td>\n",
       "      <td>0.875</td>\n",
       "    </tr>\n",
       "    <tr>\n",
       "      <th>3</th>\n",
       "      <td>0.62269</td>\n",
       "      <td>0.75232</td>\n",
       "      <td>1.25</td>\n",
       "      <td>1.5</td>\n",
       "      <td>0.875</td>\n",
       "    </tr>\n",
       "    <tr>\n",
       "      <th>4</th>\n",
       "      <td>0.62539</td>\n",
       "      <td>0.74962</td>\n",
       "      <td>1.25</td>\n",
       "      <td>1.5</td>\n",
       "      <td>0.875</td>\n",
       "    </tr>\n",
       "    <tr>\n",
       "      <th>5</th>\n",
       "      <td>0.62494</td>\n",
       "      <td>0.75006</td>\n",
       "      <td>1.25</td>\n",
       "      <td>1.5</td>\n",
       "      <td>0.875</td>\n",
       "    </tr>\n",
       "    <tr>\n",
       "      <th>6</th>\n",
       "      <td>0.62501</td>\n",
       "      <td>0.74999</td>\n",
       "      <td>1.25</td>\n",
       "      <td>1.5</td>\n",
       "      <td>0.875</td>\n",
       "    </tr>\n",
       "    <tr>\n",
       "      <th>7</th>\n",
       "      <td>0.62500</td>\n",
       "      <td>0.75000</td>\n",
       "      <td>1.25</td>\n",
       "      <td>1.5</td>\n",
       "      <td>0.875</td>\n",
       "    </tr>\n",
       "    <tr>\n",
       "      <th>8</th>\n",
       "      <td>0.62500</td>\n",
       "      <td>0.75000</td>\n",
       "      <td>1.25</td>\n",
       "      <td>1.5</td>\n",
       "      <td>0.875</td>\n",
       "    </tr>\n",
       "    <tr>\n",
       "      <th>9</th>\n",
       "      <td>0.62500</td>\n",
       "      <td>0.75000</td>\n",
       "      <td>1.25</td>\n",
       "      <td>1.5</td>\n",
       "      <td>0.875</td>\n",
       "    </tr>\n",
       "  </tbody>\n",
       "</table>\n",
       "</div>"
      ],
      "text/plain": [
       "         A        B     C    D      E\n",
       "0  1.00000  1.00000  1.00  1.0  1.000\n",
       "1  0.66667  0.83333  1.25  1.5  0.750\n",
       "2  0.63889  0.73611  1.25  1.5  0.875\n",
       "3  0.62269  0.75232  1.25  1.5  0.875\n",
       "4  0.62539  0.74962  1.25  1.5  0.875\n",
       "5  0.62494  0.75006  1.25  1.5  0.875\n",
       "6  0.62501  0.74999  1.25  1.5  0.875\n",
       "7  0.62500  0.75000  1.25  1.5  0.875\n",
       "8  0.62500  0.75000  1.25  1.5  0.875\n",
       "9  0.62500  0.75000  1.25  1.5  0.875"
      ]
     },
     "execution_count": 4,
     "metadata": {},
     "output_type": "execute_result"
    }
   ],
   "source": [
    "# Results of normal page rank algorithm\n",
    "print('Normal page rank')\n",
    "npr = pageRank(0.5, 10)\n",
    "npr.head(10)"
   ]
  },
  {
   "cell_type": "code",
   "execution_count": 5,
   "metadata": {},
   "outputs": [
    {
     "data": {
      "text/plain": [
       "<matplotlib.axes._subplots.AxesSubplot at 0x1a22f794a8>"
      ]
     },
     "execution_count": 5,
     "metadata": {},
     "output_type": "execute_result"
    },
    {
     "data": {
      "image/png": "[encoded data removed]",
      "text/plain": [
       "<Figure size 432x288 with 1 Axes>"
      ]
     },
     "metadata": {
      "needs_background": "light"
     },
     "output_type": "display_data"
    }
   ],
   "source": [
    "# Plot of normal page ranks across iterations\n",
    "sb.lineplot(data=npr, linewidth=2.5)"
   ]
  },
  {
   "cell_type": "code",
   "execution_count": 6,
   "metadata": {},
   "outputs": [
    {
     "name": "stdout",
     "output_type": "stream",
     "text": [
      "Weighted page rank\n"
     ]
    },
    {
     "data": {
      "text/html": [
       "<div>\n",
       "<style scoped>\n",
       "    .dataframe tbody tr th:only-of-type {\n",
       "        vertical-align: middle;\n",
       "    }\n",
       "\n",
       "    .dataframe tbody tr th {\n",
       "        vertical-align: top;\n",
       "    }\n",
       "\n",
       "    .dataframe thead th {\n",
       "        text-align: right;\n",
       "    }\n",
       "</style>\n",
       "<table border=\"1\" class=\"dataframe\">\n",
       "  <thead>\n",
       "    <tr style=\"text-align: right;\">\n",
       "      <th></th>\n",
       "      <th>A</th>\n",
       "      <th>B</th>\n",
       "      <th>C</th>\n",
       "      <th>D</th>\n",
       "      <th>E</th>\n",
       "    </tr>\n",
       "  </thead>\n",
       "  <tbody>\n",
       "    <tr>\n",
       "      <th>0</th>\n",
       "      <td>1.00000</td>\n",
       "      <td>1.00000</td>\n",
       "      <td>1.00000</td>\n",
       "      <td>1.00000</td>\n",
       "      <td>1.00000</td>\n",
       "    </tr>\n",
       "    <tr>\n",
       "      <th>1</th>\n",
       "      <td>0.62500</td>\n",
       "      <td>1.37500</td>\n",
       "      <td>1.27500</td>\n",
       "      <td>2.04545</td>\n",
       "      <td>0.51875</td>\n",
       "    </tr>\n",
       "    <tr>\n",
       "      <th>2</th>\n",
       "      <td>0.67188</td>\n",
       "      <td>1.00703</td>\n",
       "      <td>1.11832</td>\n",
       "      <td>1.69233</td>\n",
       "      <td>0.53835</td>\n",
       "    </tr>\n",
       "    <tr>\n",
       "      <th>3</th>\n",
       "      <td>0.62588</td>\n",
       "      <td>1.03782</td>\n",
       "      <td>1.06869</td>\n",
       "      <td>1.60360</td>\n",
       "      <td>0.53173</td>\n",
       "    </tr>\n",
       "    <tr>\n",
       "      <th>4</th>\n",
       "      <td>0.62973</td>\n",
       "      <td>1.01234</td>\n",
       "      <td>1.05462</td>\n",
       "      <td>1.57764</td>\n",
       "      <td>0.53007</td>\n",
       "    </tr>\n",
       "    <tr>\n",
       "      <th>5</th>\n",
       "      <td>0.62654</td>\n",
       "      <td>1.01364</td>\n",
       "      <td>1.05059</td>\n",
       "      <td>1.57024</td>\n",
       "      <td>0.52958</td>\n",
       "    </tr>\n",
       "    <tr>\n",
       "      <th>6</th>\n",
       "      <td>0.62671</td>\n",
       "      <td>1.01186</td>\n",
       "      <td>1.04944</td>\n",
       "      <td>1.56812</td>\n",
       "      <td>0.52944</td>\n",
       "    </tr>\n",
       "    <tr>\n",
       "      <th>7</th>\n",
       "      <td>0.62648</td>\n",
       "      <td>1.01189</td>\n",
       "      <td>1.04911</td>\n",
       "      <td>1.56752</td>\n",
       "      <td>0.52940</td>\n",
       "    </tr>\n",
       "    <tr>\n",
       "      <th>8</th>\n",
       "      <td>0.62649</td>\n",
       "      <td>1.01177</td>\n",
       "      <td>1.04901</td>\n",
       "      <td>1.56734</td>\n",
       "      <td>0.52939</td>\n",
       "    </tr>\n",
       "    <tr>\n",
       "      <th>9</th>\n",
       "      <td>0.62647</td>\n",
       "      <td>1.01177</td>\n",
       "      <td>1.04899</td>\n",
       "      <td>1.56729</td>\n",
       "      <td>0.52939</td>\n",
       "    </tr>\n",
       "  </tbody>\n",
       "</table>\n",
       "</div>"
      ],
      "text/plain": [
       "         A        B        C        D        E\n",
       "0  1.00000  1.00000  1.00000  1.00000  1.00000\n",
       "1  0.62500  1.37500  1.27500  2.04545  0.51875\n",
       "2  0.67188  1.00703  1.11832  1.69233  0.53835\n",
       "3  0.62588  1.03782  1.06869  1.60360  0.53173\n",
       "4  0.62973  1.01234  1.05462  1.57764  0.53007\n",
       "5  0.62654  1.01364  1.05059  1.57024  0.52958\n",
       "6  0.62671  1.01186  1.04944  1.56812  0.52944\n",
       "7  0.62648  1.01189  1.04911  1.56752  0.52940\n",
       "8  0.62649  1.01177  1.04901  1.56734  0.52939\n",
       "9  0.62647  1.01177  1.04899  1.56729  0.52939"
      ]
     },
     "execution_count": 6,
     "metadata": {},
     "output_type": "execute_result"
    }
   ],
   "source": [
    "# Results of weighted page rank algorithm\n",
    "print('Weighted page rank')\n",
    "wpr = weightedPR(0.5, 10)\n",
    "wpr.head(10)"
   ]
  },
  {
   "cell_type": "code",
   "execution_count": 7,
   "metadata": {},
   "outputs": [
    {
     "data": {
      "text/plain": [
       "<matplotlib.axes._subplots.AxesSubplot at 0x1a2300f978>"
      ]
     },
     "execution_count": 7,
     "metadata": {},
     "output_type": "execute_result"
    },
    {
     "data": {
      "image/png": "[encoded data removed]",
      "text/plain": [
       "<Figure size 432x288 with 1 Axes>"
      ]
     },
     "metadata": {
      "needs_background": "light"
     },
     "output_type": "display_data"
    }
   ],
   "source": [
    "# Plot of weighted page ranks across iterations\n",
    "sb.lineplot(data=wpr, linewidth=2.5)"
   ]
  }
 ],
 "metadata": {
  "kernelspec": {
   "display_name": "Python 3",
   "language": "python",
   "name": "python3"
  },
  "language_info": {
   "codemirror_mode": {
    "name": "ipython",
    "version": 3
   },
   "file_extension": ".py",
   "mimetype": "text/x-python",
   "name": "python",
   "nbconvert_exporter": "python",
   "pygments_lexer": "ipython3",
   "version": "3.6.7"
  }
 },
 "nbformat": 4,
 "nbformat_minor": 2
}
