{
 "cells": [
  {
   "cell_type": "code",
   "execution_count": 1,
   "metadata": {},
   "outputs": [
    {
     "name": "stderr",
     "output_type": "stream",
     "text": [
      "/anaconda3/lib/python3.6/importlib/_bootstrap.py:219: RuntimeWarning: numpy.dtype size changed, may indicate binary incompatibility. Expected 96, got 88\n",
      "  return f(*args, **kwds)\n",
      "/anaconda3/lib/python3.6/importlib/_bootstrap.py:219: RuntimeWarning: numpy.dtype size changed, may indicate binary incompatibility. Expected 96, got 88\n",
      "  return f(*args, **kwds)\n"
     ]
    }
   ],
   "source": [
    "import pandas as pd\n",
    "import numpy as np"
   ]
  },
  {
   "cell_type": "code",
   "execution_count": 2,
   "metadata": {},
   "outputs": [],
   "source": [
    "# Finds the probabilities for all the target labels\n",
    "\n",
    "def NBC(condition, target, data):\n",
    "    \n",
    "    n = df.shape[0]\n",
    "    \n",
    "    classes = df[target].unique()\n",
    "    prob = {}\n",
    "    for i in classes:\n",
    "        p = df.loc[df[target]==i].shape[0]/n\n",
    "        prob[i]= round(p, 3)\n",
    "\n",
    "    for feature in condition.keys():\n",
    "        for i in classes:\n",
    "            df2 = df.loc[df[target]==i]\n",
    "            df3 = df2.loc[df[feature]==condition[feature]]\n",
    "            x = df3.shape[0]\n",
    "            y = df2.shape[0]\n",
    "            if x==0:\n",
    "                x += 1\n",
    "                y += 1\n",
    "            p = x/y\n",
    "            prob[i] *= p\n",
    "            prob[i] = round(prob[i], 3)\n",
    "\n",
    "    result = None\n",
    "    max_prob = 0\n",
    "    \n",
    "    print('Probabilities:\\n', prob)\n",
    "\n",
    "    for i in classes:\n",
    "        if prob[i]>max_prob:\n",
    "            result = i\n",
    "            max_prob = prob[i]\n",
    "\n",
    "    print('\\nCondition classified in:\\n', result)"
   ]
  },
  {
   "cell_type": "code",
   "execution_count": 3,
   "metadata": {},
   "outputs": [
    {
     "name": "stdout",
     "output_type": "stream",
     "text": [
      "    rec      Age  Income Student Credit_rating Buys_computer\n",
      "0    r1     <=30    High      No          Fair            No\n",
      "1    r2     <=30    High      No     Excellent            No\n",
      "2    r3  31...40    High      No          Fair           Yes\n",
      "3    r4      >40  Medium      No          Fair           Yes\n",
      "4    r5      >40     Low     Yes          Fair           Yes\n",
      "5    r6      >40     Low     Yes     Excellent            No\n",
      "6    r7  31...40     Low     Yes     Excellent           Yes\n",
      "7    r8     <=30  Medium      No          Fair            No\n",
      "8    r9     <=30     Low     Yes          Fair           Yes\n",
      "9   r10      >40  Medium     Yes          Fair           Yes\n",
      "10  r11     <=30  Medium     Yes     Excellent           Yes\n",
      "11  r12  31...40  Medium      No     Excellent           Yes\n",
      "12  r13  31...40    High     Yes          Fair           Yes\n",
      "13  r14      >40  Medium      No     Excellent            No\n"
     ]
    }
   ],
   "source": [
    "# Reading data for part 1\n",
    "\n",
    "df = pd.read_csv('nbc.csv')\n",
    "print(df.head(14))"
   ]
  },
  {
   "cell_type": "code",
   "execution_count": 4,
   "metadata": {},
   "outputs": [
    {
     "name": "stdout",
     "output_type": "stream",
     "text": [
      "Probabilities:\n",
      " {'No': 0.007, 'Yes': 0.029}\n",
      "\n",
      "Condition classified in:\n",
      " Yes\n"
     ]
    }
   ],
   "source": [
    "# Setting neccessary conditions for classification\n",
    "\n",
    "condition = {\n",
    "    'Age': '<=30',\n",
    "    'Income': 'Medium',\n",
    "    'Student': 'Yes',\n",
    "    'Credit_rating': 'Fair'\n",
    "}\n",
    "\n",
    "target = 'Buys_computer'\n",
    "\n",
    "NBC(condition, target, df)"
   ]
  },
  {
   "cell_type": "code",
   "execution_count": 5,
   "metadata": {},
   "outputs": [
    {
     "data": {
      "text/html": [
       "<div>\n",
       "<style scoped>\n",
       "    .dataframe tbody tr th:only-of-type {\n",
       "        vertical-align: middle;\n",
       "    }\n",
       "\n",
       "    .dataframe tbody tr th {\n",
       "        vertical-align: top;\n",
       "    }\n",
       "\n",
       "    .dataframe thead th {\n",
       "        text-align: right;\n",
       "    }\n",
       "</style>\n",
       "<table border=\"1\" class=\"dataframe\">\n",
       "  <thead>\n",
       "    <tr style=\"text-align: right;\">\n",
       "      <th></th>\n",
       "      <th>TDP</th>\n",
       "      <th>Nifty</th>\n",
       "      <th>Sidhu</th>\n",
       "      <th>BJP</th>\n",
       "      <th>Sensex</th>\n",
       "      <th>Sixer</th>\n",
       "      <th>Congress</th>\n",
       "      <th>Century</th>\n",
       "      <th>Category</th>\n",
       "    </tr>\n",
       "  </thead>\n",
       "  <tbody>\n",
       "    <tr>\n",
       "      <th>0</th>\n",
       "      <td>4</td>\n",
       "      <td>0</td>\n",
       "      <td>3</td>\n",
       "      <td>5</td>\n",
       "      <td>1</td>\n",
       "      <td>0</td>\n",
       "      <td>6</td>\n",
       "      <td>0</td>\n",
       "      <td>Politics</td>\n",
       "    </tr>\n",
       "    <tr>\n",
       "      <th>1</th>\n",
       "      <td>0</td>\n",
       "      <td>5</td>\n",
       "      <td>0</td>\n",
       "      <td>2</td>\n",
       "      <td>6</td>\n",
       "      <td>0</td>\n",
       "      <td>1</td>\n",
       "      <td>0</td>\n",
       "      <td>Business</td>\n",
       "    </tr>\n",
       "    <tr>\n",
       "      <th>2</th>\n",
       "      <td>0</td>\n",
       "      <td>0</td>\n",
       "      <td>6</td>\n",
       "      <td>1</td>\n",
       "      <td>0</td>\n",
       "      <td>4</td>\n",
       "      <td>1</td>\n",
       "      <td>2</td>\n",
       "      <td>Sports</td>\n",
       "    </tr>\n",
       "    <tr>\n",
       "      <th>3</th>\n",
       "      <td>4</td>\n",
       "      <td>1</td>\n",
       "      <td>0</td>\n",
       "      <td>1</td>\n",
       "      <td>1</td>\n",
       "      <td>0</td>\n",
       "      <td>6</td>\n",
       "      <td>0</td>\n",
       "      <td>Politics</td>\n",
       "    </tr>\n",
       "    <tr>\n",
       "      <th>4</th>\n",
       "      <td>0</td>\n",
       "      <td>0</td>\n",
       "      <td>0</td>\n",
       "      <td>0</td>\n",
       "      <td>0</td>\n",
       "      <td>5</td>\n",
       "      <td>0</td>\n",
       "      <td>6</td>\n",
       "      <td>Sports</td>\n",
       "    </tr>\n",
       "    <tr>\n",
       "      <th>5</th>\n",
       "      <td>0</td>\n",
       "      <td>4</td>\n",
       "      <td>0</td>\n",
       "      <td>2</td>\n",
       "      <td>6</td>\n",
       "      <td>0</td>\n",
       "      <td>0</td>\n",
       "      <td>1</td>\n",
       "      <td>Business</td>\n",
       "    </tr>\n",
       "    <tr>\n",
       "      <th>6</th>\n",
       "      <td>5</td>\n",
       "      <td>0</td>\n",
       "      <td>0</td>\n",
       "      <td>3</td>\n",
       "      <td>0</td>\n",
       "      <td>0</td>\n",
       "      <td>5</td>\n",
       "      <td>0</td>\n",
       "      <td>Politics</td>\n",
       "    </tr>\n",
       "  </tbody>\n",
       "</table>\n",
       "</div>"
      ],
      "text/plain": [
       "   TDP  Nifty  Sidhu  BJP  Sensex  Sixer  Congress  Century  Category\n",
       "0    4      0      3    5       1      0         6        0  Politics\n",
       "1    0      5      0    2       6      0         1        0  Business\n",
       "2    0      0      6    1       0      4         1        2    Sports\n",
       "3    4      1      0    1       1      0         6        0  Politics\n",
       "4    0      0      0    0       0      5         0        6    Sports\n",
       "5    0      4      0    2       6      0         0        1  Business\n",
       "6    5      0      0    3       0      0         5        0  Politics"
      ]
     },
     "execution_count": 5,
     "metadata": {},
     "output_type": "execute_result"
    }
   ],
   "source": [
    "# Reading data for part 2\n",
    "\n",
    "df = pd.read_csv('data2.csv')\n",
    "df.head(10)"
   ]
  },
  {
   "cell_type": "code",
   "execution_count": 8,
   "metadata": {},
   "outputs": [
    {
     "ename": "TypeError",
     "evalue": "cannot convert the series to <class 'int'>",
     "output_type": "error",
     "traceback": [
      "\u001b[0;31m---------------------------------------------------------------------------\u001b[0m",
      "\u001b[0;31mTypeError\u001b[0m                                 Traceback (most recent call last)",
      "\u001b[0;32m<ipython-input-8-c32323bef78c>\u001b[0m in \u001b[0;36m<module>\u001b[0;34m()\u001b[0m\n\u001b[1;32m      3\u001b[0m \u001b[0mdf\u001b[0m \u001b[0;34m=\u001b[0m \u001b[0mdf\u001b[0m\u001b[0;34m.\u001b[0m\u001b[0mapplymap\u001b[0m\u001b[0;34m(\u001b[0m\u001b[0mstr\u001b[0m\u001b[0;34m)\u001b[0m\u001b[0;34m\u001b[0m\u001b[0m\n\u001b[1;32m      4\u001b[0m \u001b[0;32mfor\u001b[0m \u001b[0mattr\u001b[0m \u001b[0;32min\u001b[0m \u001b[0mdf\u001b[0m\u001b[0;34m.\u001b[0m\u001b[0mcolumns\u001b[0m\u001b[0;34m[\u001b[0m\u001b[0;34m:\u001b[0m\u001b[0;34m-\u001b[0m\u001b[0;36m1\u001b[0m\u001b[0;34m]\u001b[0m\u001b[0;34m:\u001b[0m\u001b[0;34m\u001b[0m\u001b[0m\n\u001b[0;32m----> 5\u001b[0;31m     \u001b[0mdf\u001b[0m\u001b[0;34m.\u001b[0m\u001b[0mloc\u001b[0m\u001b[0;34m[\u001b[0m\u001b[0mint\u001b[0m\u001b[0;34m(\u001b[0m\u001b[0mdf\u001b[0m\u001b[0;34m[\u001b[0m\u001b[0mattr\u001b[0m\u001b[0;34m]\u001b[0m\u001b[0;34m)\u001b[0m \u001b[0;34m>\u001b[0m \u001b[0;36m3\u001b[0m\u001b[0;34m,\u001b[0m \u001b[0mattr\u001b[0m\u001b[0;34m]\u001b[0m \u001b[0;34m=\u001b[0m \u001b[0;34m'high'\u001b[0m\u001b[0;34m\u001b[0m\u001b[0m\n\u001b[0m\u001b[1;32m      6\u001b[0m     \u001b[0mdf\u001b[0m\u001b[0;34m.\u001b[0m\u001b[0mloc\u001b[0m\u001b[0;34m[\u001b[0m\u001b[0mint\u001b[0m\u001b[0;34m(\u001b[0m\u001b[0mdf\u001b[0m\u001b[0;34m[\u001b[0m\u001b[0mattr\u001b[0m\u001b[0;34m]\u001b[0m\u001b[0;34m)\u001b[0m \u001b[0;34m<=\u001b[0m \u001b[0;36m3\u001b[0m\u001b[0;34m,\u001b[0m \u001b[0mattr\u001b[0m\u001b[0;34m]\u001b[0m \u001b[0;34m=\u001b[0m \u001b[0;34m'low'\u001b[0m\u001b[0;34m\u001b[0m\u001b[0m\n\u001b[1;32m      7\u001b[0m \u001b[0mdf\u001b[0m\u001b[0;34m.\u001b[0m\u001b[0mhead\u001b[0m\u001b[0;34m(\u001b[0m\u001b[0;36m10\u001b[0m\u001b[0;34m)\u001b[0m\u001b[0;34m\u001b[0m\u001b[0m\n",
      "\u001b[0;32m/anaconda3/lib/python3.6/site-packages/pandas/core/series.py\u001b[0m in \u001b[0;36mwrapper\u001b[0;34m(self)\u001b[0m\n\u001b[1;32m    116\u001b[0m             \u001b[0;32mreturn\u001b[0m \u001b[0mconverter\u001b[0m\u001b[0;34m(\u001b[0m\u001b[0mself\u001b[0m\u001b[0;34m.\u001b[0m\u001b[0miloc\u001b[0m\u001b[0;34m[\u001b[0m\u001b[0;36m0\u001b[0m\u001b[0;34m]\u001b[0m\u001b[0;34m)\u001b[0m\u001b[0;34m\u001b[0m\u001b[0m\n\u001b[1;32m    117\u001b[0m         raise TypeError(\"cannot convert the series to \"\n\u001b[0;32m--> 118\u001b[0;31m                         \"{0}\".format(str(converter)))\n\u001b[0m\u001b[1;32m    119\u001b[0m \u001b[0;34m\u001b[0m\u001b[0m\n\u001b[1;32m    120\u001b[0m     \u001b[0;32mreturn\u001b[0m \u001b[0mwrapper\u001b[0m\u001b[0;34m\u001b[0m\u001b[0m\n",
      "\u001b[0;31mTypeError\u001b[0m: cannot convert the series to <class 'int'>"
     ]
    }
   ],
   "source": [
    "# Modifying from continuous to categorical data\n",
    "\n",
    "df = df.applymap(str)\n",
    "for attr in df.columns[:-1]:\n",
    "    df.loc[df[attr] > '3', attr] = 'high'\n",
    "    df.loc[df[attr] <= '3', attr] = 'low'\n",
    "df.head(10)"
   ]
  },
  {
   "cell_type": "code",
   "execution_count": 7,
   "metadata": {},
   "outputs": [
    {
     "name": "stdout",
     "output_type": "stream",
     "text": [
      "Probabilities:\n",
      " {'Politics': 0.004, 'Business': 0.095, 'Sports': 0.008}\n",
      "\n",
      "Condition classified in:\n",
      " Business\n"
     ]
    }
   ],
   "source": [
    "# Setting necessary conditions for classification\n",
    "\n",
    "condition = {\n",
    "    'TDP': 'low',\n",
    "    'Nifty': 'low',\n",
    "    'Sidhu': 'low',\n",
    "    'BJP': 'low',\n",
    "    'Sensex': 'high',\n",
    "    'Sixer': 'low',\n",
    "    'Congress': 'low',\n",
    "    'Century': 'low',\n",
    "}\n",
    "\n",
    "target = 'Category'\n",
    "\n",
    "NBC(condition, target, df)"
   ]
  }
 ],
 "metadata": {
  "kernelspec": {
   "display_name": "Python 3",
   "language": "python",
   "name": "python3"
  },
  "language_info": {
   "codemirror_mode": {
    "name": "ipython",
    "version": 3
   },
   "file_extension": ".py",
   "mimetype": "text/x-python",
   "name": "python",
   "nbconvert_exporter": "python",
   "pygments_lexer": "ipython3",
   "version": "3.6.5"
  }
 },
 "nbformat": 4,
 "nbformat_minor": 2
}
