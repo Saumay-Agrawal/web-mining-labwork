{
 "cells": [
  {
   "cell_type": "code",
   "execution_count": 1,
   "metadata": {},
   "outputs": [
    {
     "name": "stderr",
     "output_type": "stream",
     "text": [
      "/anaconda3/lib/python3.6/importlib/_bootstrap.py:219: RuntimeWarning: numpy.dtype size changed, may indicate binary incompatibility. Expected 96, got 88\n",
      "  return f(*args, **kwds)\n",
      "/anaconda3/lib/python3.6/importlib/_bootstrap.py:219: RuntimeWarning: numpy.dtype size changed, may indicate binary incompatibility. Expected 96, got 88\n",
      "  return f(*args, **kwds)\n"
     ]
    }
   ],
   "source": [
    "from math import log\n",
    "from pprint import pprint\n",
    "import numpy as np\n",
    "import pandas as pd\n"
   ]
  },
  {
   "cell_type": "code",
   "execution_count": 2,
   "metadata": {},
   "outputs": [],
   "source": [
    "# Creating a Decision Tree class\n",
    "\n",
    "class DecisionTree(object):\n",
    "\n",
    "    # Constructor to initialize the dataframe of class\n",
    "    def __init__(self, df):\n",
    "        self.df = df\n",
    "        self.entropy = self.getentropy(df.iloc[:, -1])\n",
    "\n",
    "    def getdata(self):\n",
    "        print(self.df)\n",
    "    \n",
    "    def proportion(self, c, n):\n",
    "        if c == 0:\n",
    "            return 0\n",
    "        pc = c/n\n",
    "        return -pc*log(pc, 2)\n",
    "    \n",
    "    # Compute the entroy of a given value vector\n",
    "    def getentropy(self, values):\n",
    "        n = len(values)\n",
    "        value_dist = values.value_counts()\n",
    "        entropy = 0\n",
    "        for i in value_dist.index:\n",
    "            entropy += self.proportion(value_dist[i], n)\n",
    "        return entropy\n",
    "\n",
    "    # Compute the entropy for each attribute of dataset\n",
    "    def getgain(self, df):\n",
    "        attribute = df.columns[0]\n",
    "        info = {}\n",
    "        avg = 0\n",
    "        n = len(df.iloc[:, 0])\n",
    "        value_dist = df.iloc[:, 0].value_counts()\n",
    "        for i in value_dist.index:\n",
    "            x = df.loc[df[attribute] == i]\n",
    "            entropy = self.getentropy(x.iloc[:, -1])\n",
    "            info[i] = entropy\n",
    "            y = value_dist[i]/n * entropy\n",
    "            avg += y\n",
    "        info['average'] = avg\n",
    "        return info\n",
    "\n",
    "    # Compute the info gain for each attribute of the dataset\n",
    "    def getinfogain(self):\n",
    "        df = self.df\n",
    "        infogain = {}\n",
    "        target = df.columns[-1]\n",
    "        for col in df.columns[:-1]:\n",
    "            x = df.loc[:, [col, target]]\n",
    "            info = self.getgain(x)\n",
    "            infogain[col] = self.entropy - info['average']\n",
    "        return infogain\n",
    "\n",
    "    # Find the root attribute having minimum infogain\n",
    "    def findroot(self):\n",
    "        ifgain = self.getinfogain()\n",
    "        attr, maxig = None, 0\n",
    "        for k in ifgain.keys():\n",
    "            if ifgain[k] > maxig:\n",
    "                maxig = ifgain[k]\n",
    "                attr = k\n",
    "        return attr\n",
    "\n",
    "    # Create the decision tree recursively\n",
    "    def createTree(self):\n",
    "        df = self.df\n",
    "        if self.entropy == 0:\n",
    "            target = df.iloc[:, -1].value_counts().index[0]\n",
    "            return target\n",
    "        rootattr = self.findroot()\n",
    "        tree = {}\n",
    "        for i in df[rootattr].value_counts().index:\n",
    "            cols = list(df.columns)\n",
    "            cols.remove(rootattr)\n",
    "            x = df.loc[df[rootattr]==i, cols]\n",
    "            subtree = DecisionTree(x)\n",
    "            tree[i] = subtree.createTree()\n",
    "        return {rootattr: tree}\n"
   ]
  },
  {
   "cell_type": "code",
   "execution_count": 5,
   "metadata": {},
   "outputs": [
    {
     "name": "stdout",
     "output_type": "stream",
     "text": [
      "     outlook  temp humidity   windy play\n",
      "0      sunny   hot     high    weak   no\n",
      "1      sunny   hot     high  strong   no\n",
      "2   overcast   hot     high    weak  yes\n",
      "3      rainy  mild     high    weak  yes\n",
      "4      rainy  cool   normal    weak  yes\n",
      "5      rainy  cool   normal  strong   no\n",
      "6   overcast  cool   normal  strong  yes\n",
      "7      sunny  mild     high    weak   no\n",
      "8      sunny  cool   normal    weak  yes\n",
      "9      rainy  mild   normal    weak  yes\n",
      "10     sunny  mild   normal  strong  yes\n",
      "11  overcast  mild     high  strong  yes\n",
      "12  overcast   hot   normal    weak  yes\n",
      "13     rainy  mild     high  strong   no\n"
     ]
    }
   ],
   "source": [
    "# Initialising the class with tennis data\n",
    "\n",
    "data = pd.read_csv('data.csv')\n",
    "dtree = DecisionTree(data)\n",
    "dtree.getdata()\n"
   ]
  },
  {
   "cell_type": "code",
   "execution_count": 6,
   "metadata": {},
   "outputs": [
    {
     "name": "stdout",
     "output_type": "stream",
     "text": [
      "{'outlook': {'overcast': 'yes',\n",
      "             'rainy': {'windy': {'strong': 'no', 'weak': 'yes'}},\n",
      "             'sunny': {'humidity': {'high': 'no', 'normal': 'yes'}}}}\n"
     ]
    }
   ],
   "source": [
    "# Display the computed Desicion Tree\n",
    "\n",
    "pprint(dtree.createTree())"
   ]
  }
 ],
 "metadata": {
  "kernelspec": {
   "display_name": "Python 3",
   "language": "python",
   "name": "python3"
  },
  "language_info": {
   "codemirror_mode": {
    "name": "ipython",
    "version": 3
   },
   "file_extension": ".py",
   "mimetype": "text/x-python",
   "name": "python",
   "nbconvert_exporter": "python",
   "pygments_lexer": "ipython3",
   "version": "3.6.5"
  }
 },
 "nbformat": 4,
 "nbformat_minor": 2
}
